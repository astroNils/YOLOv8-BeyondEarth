{
 "cells": [
  {
   "cell_type": "markdown",
   "id": "528f123c-71aa-4898-bd7c-d326e736526f",
   "metadata": {},
   "source": [
    "## From shapefiles to a custom dataset in YOLOv8\n",
    "\n",
    "The conversion from shapefiles to training data follows the same procedure as for the generation of training data for the Mask R-CNN model architecture: \n",
    "\n",
    "1. Select all of the shapefiles and all of the region of mapping (not the), and clip boulders to it (clip to patches).\n",
    "2. Select already generated pickle files (contain information to tile rasters).\n",
    "3. Read all boulder shapefiles and pickle files and concatenate them in one GeoDataframe/Dataframe (for each of them)\n",
    "4. Specify main path to rasters.\n",
    "5. Split in train-validation-test split based on selected percentages.\n",
    "6. Tile rasters based on mapped patches.\n",
    "7. Update absolute path to boulder mapping\n",
    "8. Tile shapefiles from dataframe\n",
    "9. Save pickle (in case you want to re-run it)\n",
    "10. Generate YOLOv8 custom dataset for import during training"
   ]
  },
  {
   "cell_type": "code",
   "execution_count": 15,
   "id": "c5a91bd4-2a42-499c-a465-71fec16c777d",
   "metadata": {},
   "outputs": [],
   "source": [
    "import geopandas as gpd\n",
    "import matplotlib.pyplot as plt\n",
    "import numpy as np\n",
    "import pandas as pd\n",
    "import shapely\n",
    "import sys\n",
    "import skimage\n",
    "import pycocotools.mask as mask_util\n",
    "\n",
    "from shptools_BOULDERING import shp, geometry as shp_geom, geomorph as shp_geomorph, annotations as shp_anno, metrics as shp_metrics\n",
    "from rastertools_BOULDERING import raster, metadata as raster_metadata, crs as raster_crs\n",
    "from pathlib import Path\n",
    "from tqdm import tqdm"
   ]
  },
  {
   "cell_type": "markdown",
   "id": "b79ec31b-0cb4-42de-97dc-37c34495bf6d",
   "metadata": {},
   "source": [
    "Steps 1 to 8 are already described at https://github.com/astroNils/MLtools/blob/main/resources/nb/PREPROCESSING_BOULDERING.ipynb. Just follow the same step, and you will end up with a pandas dataframe with all of the information you need! I am just directly loading the dataframe below. <br>\n",
    "\n",
    "We here need to focus on converting the masks representing the outlines of boulders into the YOLOv8 format. You can learn more about the format here: https://docs.ultralytics.com/datasets/segment/#supported-dataset-formats."
   ]
  },
  {
   "cell_type": "code",
   "execution_count": 7,
   "id": "f7997bb5-8774-4bf4-a25d-f49cad783361",
   "metadata": {},
   "outputs": [],
   "source": [
    "json_file = Path(\"D:/BOULDERING/data/preprocessing_Jan2024/json/Jan2024-Mars-Moon-Earth-mask-0px-windows.json\") # change to your local path\n",
    "img_dir = Path(\"D:/BOULDERING/data/preprocessing_Jan2024\") # change to your local path where tiled images have been saved. "
   ]
  },
  {
   "cell_type": "code",
   "execution_count": 5,
   "id": "bb4fa6de-b674-414e-a65d-23f34d005945",
   "metadata": {},
   "outputs": [],
   "source": [
    "df = pd.read_json(json_file)"
   ]
  },
  {
   "cell_type": "code",
   "execution_count": 6,
   "id": "f8591a86-d5b2-4e70-be6d-3a0e2f5cc7a2",
   "metadata": {},
   "outputs": [
    {
     "data": {
      "text/html": [
       "<div>\n",
       "<style scoped>\n",
       "    .dataframe tbody tr th:only-of-type {\n",
       "        vertical-align: middle;\n",
       "    }\n",
       "\n",
       "    .dataframe tbody tr th {\n",
       "        vertical-align: top;\n",
       "    }\n",
       "\n",
       "    .dataframe thead th {\n",
       "        text-align: right;\n",
       "    }\n",
       "</style>\n",
       "<table border=\"1\" class=\"dataframe\">\n",
       "  <thead>\n",
       "    <tr style=\"text-align: right;\">\n",
       "      <th></th>\n",
       "      <th>file_name</th>\n",
       "      <th>height</th>\n",
       "      <th>width</th>\n",
       "      <th>image_id</th>\n",
       "      <th>dataset</th>\n",
       "      <th>annotations</th>\n",
       "    </tr>\n",
       "  </thead>\n",
       "  <tbody>\n",
       "    <tr>\n",
       "      <th>0</th>\n",
       "      <td>M1221383405_1718_image.png</td>\n",
       "      <td>500</td>\n",
       "      <td>500</td>\n",
       "      <td>0</td>\n",
       "      <td>train</td>\n",
       "      <td>[{'bbox': [142.0, 498.0, 151.0, 500.0], 'bbox_...</td>\n",
       "    </tr>\n",
       "    <tr>\n",
       "      <th>1</th>\n",
       "      <td>M121627645_01013_image.png</td>\n",
       "      <td>500</td>\n",
       "      <td>500</td>\n",
       "      <td>1</td>\n",
       "      <td>train</td>\n",
       "      <td>[{'bbox': [57.0, 490.0, 61.0, 496.0], 'bbox_mo...</td>\n",
       "    </tr>\n",
       "    <tr>\n",
       "      <th>2</th>\n",
       "      <td>M139694087LE_0792_image.png</td>\n",
       "      <td>500</td>\n",
       "      <td>500</td>\n",
       "      <td>2</td>\n",
       "      <td>train</td>\n",
       "      <td>[{'bbox': [461.0, 335.0, 469.0, 342.0], 'bbox_...</td>\n",
       "    </tr>\n",
       "    <tr>\n",
       "      <th>3</th>\n",
       "      <td>M121267110_01679_image.png</td>\n",
       "      <td>500</td>\n",
       "      <td>500</td>\n",
       "      <td>3</td>\n",
       "      <td>train</td>\n",
       "      <td>[{'bbox': [282.0, 487.0, 288.0, 491.0], 'bbox_...</td>\n",
       "    </tr>\n",
       "    <tr>\n",
       "      <th>4</th>\n",
       "      <td>M121267110_01425_image.png</td>\n",
       "      <td>500</td>\n",
       "      <td>500</td>\n",
       "      <td>4</td>\n",
       "      <td>validation</td>\n",
       "      <td>[{'bbox': [383.0, 387.0, 394.0, 400.0], 'bbox_...</td>\n",
       "    </tr>\n",
       "  </tbody>\n",
       "</table>\n",
       "</div>"
      ],
      "text/plain": [
       "                     file_name  height  width  image_id     dataset  \\\n",
       "0   M1221383405_1718_image.png     500    500         0       train   \n",
       "1   M121627645_01013_image.png     500    500         1       train   \n",
       "2  M139694087LE_0792_image.png     500    500         2       train   \n",
       "3   M121267110_01679_image.png     500    500         3       train   \n",
       "4   M121267110_01425_image.png     500    500         4  validation   \n",
       "\n",
       "                                         annotations  \n",
       "0  [{'bbox': [142.0, 498.0, 151.0, 500.0], 'bbox_...  \n",
       "1  [{'bbox': [57.0, 490.0, 61.0, 496.0], 'bbox_mo...  \n",
       "2  [{'bbox': [461.0, 335.0, 469.0, 342.0], 'bbox_...  \n",
       "3  [{'bbox': [282.0, 487.0, 288.0, 491.0], 'bbox_...  \n",
       "4  [{'bbox': [383.0, 387.0, 394.0, 400.0], 'bbox_...  "
      ]
     },
     "execution_count": 6,
     "metadata": {},
     "output_type": "execute_result"
    }
   ],
   "source": [
    "df.head(5)"
   ]
  },
  {
   "cell_type": "markdown",
   "id": "8c6674a3-7d08-48fd-b3a2-cad857a51cb1",
   "metadata": {},
   "source": [
    "We have the filenames, heights, and widths (you might have 512), image IDs, whether the tile is part of the train, validation, or test datasets, and then some information about the bounding boxes and masks of the outlines. So far, it is the same as for Mask R-CNN. <br>\n",
    "\n",
    "If you look into the annotations, you can see that the segmentation (i.e., the masks) are saved as the RLE format (https://en.wikipedia.org/wiki/Run-length_encoding), which is the segmentation format used by Mask R-CNN. This is the part we want to change. Let's have a close look at how a single RLE string can be converted as YOLO segmentation text file."
   ]
  },
  {
   "cell_type": "code",
   "execution_count": 29,
   "id": "80437572-5f5f-4bbd-bc09-8e2f23cb0fba",
   "metadata": {},
   "outputs": [
    {
     "data": {
      "text/plain": [
       "{'bbox': [64.0, 485.0, 70.0, 491.0],\n",
       " 'bbox_mode': 0,\n",
       " 'category_id': 0,\n",
       " 'segmentation': {'size': [500, 500], 'counts': 'Vgo03a?2M1001O1Mc_a6'}}"
      ]
     },
     "execution_count": 29,
     "metadata": {},
     "output_type": "execute_result"
    }
   ],
   "source": [
    "row = df.iloc[0]\n",
    "anno = row[\"annotations\"]\n",
    "anno[10]"
   ]
  },
  {
   "cell_type": "code",
   "execution_count": 30,
   "id": "54dd7307-fc7f-4356-b7ea-058de1fd4e5c",
   "metadata": {},
   "outputs": [
    {
     "data": {
      "text/plain": [
       "{'size': [500, 500], 'counts': 'Vgo03a?2M1001O1Mc_a6'}"
      ]
     },
     "execution_count": 30,
     "metadata": {},
     "output_type": "execute_result"
    }
   ],
   "source": [
    "anno[10][\"segmentation\"]"
   ]
  },
  {
   "cell_type": "markdown",
   "id": "140b438a-8e0e-4b16-a1a4-9657877eba48",
   "metadata": {},
   "source": [
    "The following command can be used to convert a binary mask into a polygon (x and y coordinates). "
   ]
  },
  {
   "cell_type": "code",
   "execution_count": 32,
   "id": "96f7322c-e816-4b95-b38d-70a137ca85a9",
   "metadata": {},
   "outputs": [],
   "source": [
    "def binary_mask_to_polygon(binary_mask):\n",
    "    \"\"\"Converts a binary mask to polygon representation\n",
    "    Args:\n",
    "        binary_mask: a 2D binary numpy array where '1's represent the object\n",
    "        tolerance: Maximum distance from original points of polygon to approximated\n",
    "            polygonal chain. If tolerance is 0, the original coordinate array is returned.\n",
    "    \"\"\"\n",
    "    polygon = []\n",
    "    # pad mask to close contours of shapes which start and end at an edge\n",
    "    padded_binary_mask = np.pad(binary_mask, pad_width=1, mode='constant', constant_values=0)\n",
    "    contours = skimage.measure.find_contours(padded_binary_mask, 0.5)\n",
    "\n",
    "    # yolo can produce a mask where pixels are not interconnected\n",
    "    # in this case the following line does not work\n",
    "    contours = np.subtract(contours, 1)\n",
    "    contour = np.flip(contours[0], axis=1) # should be interconnected\n",
    "    return contour"
   ]
  },
  {
   "cell_type": "code",
   "execution_count": 25,
   "id": "243a0954-a4c2-4d31-a995-65f3cb2e8cfb",
   "metadata": {},
   "outputs": [],
   "source": [
    "rle = anno[10][\"segmentation\"]\n",
    "m = skimage.morphology.remove_small_holes(mask_util.decode(rle).astype(\"bool\")) # mask_util decode rle into binary mask"
   ]
  },
  {
   "cell_type": "code",
   "execution_count": 26,
   "id": "4481cd76-3f8c-48a8-9d68-5eca7b6fa90c",
   "metadata": {},
   "outputs": [
    {
     "data": {
      "text/plain": [
       "<matplotlib.image.AxesImage at 0x1cf43892190>"
      ]
     },
     "execution_count": 26,
     "metadata": {},
     "output_type": "execute_result"
    },
    {
     "data": {
      "image/png": "[encoded data removed]",
      "text/plain": [
       "<Figure size 640x480 with 1 Axes>"
      ]
     },
     "metadata": {},
     "output_type": "display_data"
    }
   ],
   "source": [
    "plt.imshow(m) # you can see a boulder in the lower left corner."
   ]
  },
  {
   "cell_type": "markdown",
   "id": "81f266f6-bed8-45a2-9e70-51e2772376fd",
   "metadata": {},
   "source": [
    "## Generation of the YOLOv8 segmentation text file for one boulder outline\n",
    "\n",
    "#### binary mask to polygon"
   ]
  },
  {
   "cell_type": "code",
   "execution_count": 34,
   "id": "c58c313d-a587-4e88-992e-f742a93fa607",
   "metadata": {},
   "outputs": [
    {
     "data": {
      "text/plain": [
       "array([[ 68. , 490.5],\n",
       "       [ 67. , 490.5],\n",
       "       [ 66. , 490.5],\n",
       "       [ 65. , 490.5],\n",
       "       [ 64.5, 490. ],\n",
       "       [ 64.5, 489. ],\n",
       "       [ 64. , 488.5],\n",
       "       [ 63.5, 488. ],\n",
       "       [ 63.5, 487. ],\n",
       "       [ 63.5, 486. ],\n",
       "       [ 64. , 485.5],\n",
       "       [ 65. , 485.5],\n",
       "       [ 65.5, 485. ],\n",
       "       [ 66. , 484.5],\n",
       "       [ 67. , 484.5],\n",
       "       [ 67.5, 485. ],\n",
       "       [ 68. , 485.5],\n",
       "       [ 68.5, 486. ],\n",
       "       [ 69. , 486.5],\n",
       "       [ 69.5, 487. ],\n",
       "       [ 69.5, 488. ],\n",
       "       [ 69. , 488.5],\n",
       "       [ 68.5, 489. ],\n",
       "       [ 68.5, 490. ],\n",
       "       [ 68. , 490.5]])"
      ]
     },
     "execution_count": 34,
     "metadata": {},
     "output_type": "execute_result"
    }
   ],
   "source": [
    "contour = binary_mask_to_polygon(m)\n",
    "contour"
   ]
  },
  {
   "cell_type": "markdown",
   "id": "316e4b6f-84e3-4fb7-8a60-3f0e6cbbf988",
   "metadata": {},
   "source": [
    "The mask is now converted to set of x and y coordinates.\n",
    "\n",
    "#### polygon to YOLOv8 string"
   ]
  },
  {
   "cell_type": "code",
   "execution_count": 36,
   "id": "aa8c7e9f-cbdc-4bdc-a583-502959c24e2e",
   "metadata": {},
   "outputs": [
    {
     "data": {
      "text/plain": [
       "'0 0.136 0.981 0.134 0.981 0.132 0.981 0.13 0.981 0.129 0.98 0.129 0.978 0.128 0.977 0.127 0.976 0.127 0.974 0.127 0.972 0.128 0.971 0.13 0.971 0.131 0.97 0.132 0.969 0.134 0.969 0.135 0.97 0.136 0.971 0.137 0.972 0.138 0.973 0.139 0.974 0.139 0.976 0.138 0.977 0.137 0.978 0.137 0.98 0.136 0.981\\n'"
      ]
     },
     "execution_count": 36,
     "metadata": {},
     "output_type": "execute_result"
    }
   ],
   "source": [
    "c = np.array(contour).squeeze()\n",
    "cc = np.stack([c[:,0], c[:,1]], axis=-1) \n",
    "arr = cc.flatten() / row.height\n",
    "arr = list(arr.round(decimals = 3))\n",
    "arr.insert(0, 0)\n",
    "str_arr = [str(a) for a in arr]\n",
    "line = \" \".join(str_arr)  + \"\\n\"\n",
    "line"
   ]
  },
  {
   "cell_type": "markdown",
   "id": "dcfe0b9a-d83b-459e-b579-e2602c81f6e1",
   "metadata": {},
   "source": [
    "https://docs.ultralytics.com/datasets/segment/#supported-dataset-formats. <br>\n",
    "\n",
    "The first number describes the object's nature. In our case, we only detect boulders, so we set 0 to all objects. NB! If you work with more than one class, this code needs to be modified! The remaining values depict the normalized x and y coordinates, so it's imåportant that the height and width in the data frame are correct! "
   ]
  },
  {
   "cell_type": "markdown",
   "id": "568ce9dc-7674-4457-81eb-c4af1792200e",
   "metadata": {},
   "source": [
    "## Generation of the YOLOv8 segmentation text file for all boulder outlines"
   ]
  },
  {
   "cell_type": "code",
   "execution_count": null,
   "id": "641f984c-e60b-4c3e-9397-0e9cb32be2d2",
   "metadata": {},
   "outputs": [],
   "source": [
    "npixels_threshold = 6 # minimum number of pixels to be considered as a valid boulder\n",
    "image_size = 500 # change accordingly\n",
    "\n",
    "for i, row in tqdm(df.iterrows(), total=df.shape[0]):\n",
    "    masks = []\n",
    "    for r in row.annotations:\n",
    "        rle = r[\"segmentation\"]\n",
    "        # to avoid holes within mask\n",
    "        masks.append(skimage.morphology.remove_small_holes(mask_util.decode(rle))) # just in case there is a hole in there. \n",
    "\n",
    "    contours = []\n",
    "    for m in masks:\n",
    "        npixels = len(m[m == 1])\n",
    "        # min, max area (max area is set to 75% of the size of the image)\n",
    "        if np.logical_and(npixels > npixels_threshold, npixels < (0.75 * image_size) * (0.75 * image_size)):\n",
    "            contours.append(binary_mask_to_polygon(m))\n",
    "        \n",
    "    txt_stem = row.file_name.replace(\"png\", \"txt\")\n",
    "    txt_filename = pre_processed_folder / row.dataset / \"labels\" / txt_stem\n",
    "    with open(txt_filename.as_posix(), \"a\") as f:\n",
    "        for contour in contours:\n",
    "            c = np.array(contour).squeeze()\n",
    "            cc = np.stack([c[:,0], c[:,1]], axis=-1) \n",
    "            arr = cc.flatten() / row.height\n",
    "            arr = list(arr.round(decimals = 3))\n",
    "            arr.insert(0, 0) # we only have one type of object to detect (boulder). If you work with more than one class, the code needs to be modified! \n",
    "            # see https://docs.ultralytics.com/datasets/segment/#supported-dataset-formats.\n",
    "            str_arr = [str(a) for a in arr]\n",
    "            line = \" \".join(str_arr)  + \"\\n\"\n",
    "            f.writelines(line)"
   ]
  },
  {
   "cell_type": "markdown",
   "id": "a0f35a54-131b-4550-ad86-30e87542c275",
   "metadata": {},
   "source": [
    "This code will generate a text file per image/tile (in the same folder as the shapefiles). "
   ]
  },
  {
   "cell_type": "markdown",
   "id": "967f60e3-265b-414c-873f-f0dac673dedf",
   "metadata": {},
   "source": [
    "## Generation YAML file describing where training/validation/test data is...\n",
    "The last piece of the puzzle is to create a YAML file (as below) to tell where to look for the data (this will be one of the inputs in the training of the model).\n",
    "\n",
    "```yaml\n",
    "train: D:/BOULDERING/data/yolov8/datasets/boulder2024/train/images # change to your path\r\n",
    "val: D:/BOULDERING/data/yolov8/datasets/boulder2024//validation/image # change to your path \r\n",
    "test: D:/BOULDERING/data/yolov8/datasets/boulder2024/test/imag # change to your path) \r\n",
    "nc: 1\r\n",
    "# classes (only 1)\r\n",
    "names:\r\n",
    "  0: boulder\n",
    "```"
   ]
  },
  {
   "cell_type": "markdown",
   "id": "808e4254-3dd4-47e5-9481-0d3c3fa2868b",
   "metadata": {},
   "source": [
    "You only have to specify the path to the images. if labels are saved to `D:/BOULDERING/data/yolov8/datasets/boulder2024/train/labels`, `D:/BOULDERING/data/yolov8/datasets/boulder2024/validation/labels`, `D:/BOULDERING/data/yolov8/datasets/boulder2024/test/labels`, they will be automatically detected by YOLOv8. "
   ]
  },
  {
   "cell_type": "code",
   "execution_count": null,
   "id": "76fe0ac0-7ce8-4ab9-ba82-6324ffad7e65",
   "metadata": {},
   "outputs": [],
   "source": []
  }
 ],
 "metadata": {
  "kernelspec": {
   "display_name": "Python 3 (ipykernel)",
   "language": "python",
   "name": "python3"
  },
  "language_info": {
   "codemirror_mode": {
    "name": "ipython",
    "version": 3
   },
   "file_extension": ".py",
   "mimetype": "text/x-python",
   "name": "python",
   "nbconvert_exporter": "python",
   "pygments_lexer": "ipython3",
   "version": "3.9.18"
  }
 },
 "nbformat": 4,
 "nbformat_minor": 5
}
