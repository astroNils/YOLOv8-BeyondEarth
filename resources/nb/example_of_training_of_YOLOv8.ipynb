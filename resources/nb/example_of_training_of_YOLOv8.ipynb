{
 "cells": [
  {
   "cell_type": "code",
   "execution_count": 9,
   "id": "499002fc-5b70-4cab-8df1-b08f69d9f668",
   "metadata": {},
   "outputs": [],
   "source": [
    "from ultralytics import YOLO\n",
    "from matplotlib import pyplot as plt\n",
    "from PIL import Image\n",
    "from pathlib import Path\n",
    "import yaml\n",
    "import os\n",
    "import torch"
   ]
  },
  {
   "cell_type": "code",
   "execution_count": 10,
   "id": "87001cdb-89c8-4f07-b8b7-b4443a4d3a8f",
   "metadata": {},
   "outputs": [
    {
     "data": {
      "text/plain": [
       "'11.6'"
      ]
     },
     "execution_count": 10,
     "metadata": {},
     "output_type": "execute_result"
    }
   ],
   "source": [
    "torch.version.cuda"
   ]
  },
  {
   "cell_type": "code",
   "execution_count": 2,
   "id": "8afcf0b4-a2e0-4340-a9b2-02999e720568",
   "metadata": {},
   "outputs": [],
   "source": [
    "os.chdir(\"D:/BOULDERING/data/yolov8/training/\")"
   ]
  },
  {
   "cell_type": "markdown",
   "id": "ad3b95f7-15e1-4f80-9ac4-dd1584b3d8ed",
   "metadata": {},
   "source": [
    "## Loading of the model\n",
    "To see other potential models: Check here https://docs.ultralytics.com/tasks/segment/"
   ]
  },
  {
   "cell_type": "code",
   "execution_count": 3,
   "id": "9ebf9977-d878-4dcd-bf61-113ac2a98cd2",
   "metadata": {},
   "outputs": [],
   "source": [
    "#Instance\n",
    "model = YOLO('yolov8n-seg.yaml')  # build a new model from YAML\n",
    "model = YOLO('yolov8n-seg.pt')  # Transfer the weights from a pretrained model (recommended for training, here from ImageNet)"
   ]
  },
  {
   "cell_type": "markdown",
   "id": "b7753ab4-34ad-4f6b-8ac6-d9127e32127e",
   "metadata": {},
   "source": [
    "## Training of the model (incl. specifying train/validation datasets)\n",
    "For more information on the possible different arguments: see here https://docs.ultralytics.com/modes/train/#arguments. See https://github.com/ultralytics/ultralytics/blob/42744a1717f7e9ccaf2b3ab551332cd09ac24653/ultralytics/cfg/default.yaml#L50 for default config file (with more info on parameters). There are also more hyperparameters for predictions (see config file above). "
   ]
  },
  {
   "cell_type": "code",
   "execution_count": 13,
   "id": "c55fd3f9-faa8-45fd-977c-f5dedc8bf634",
   "metadata": {},
   "outputs": [
    {
     "name": "stdout",
     "output_type": "stream",
     "text": [
      "New https://pypi.org/project/ultralytics/8.1.15 available 😃 Update with 'pip install -U ultralytics'\n",
      "Ultralytics YOLOv8.1.14 🚀 Python-3.9.18 torch-1.13.1+cu116 CUDA:0 (NVIDIA GeForce RTX 4090 Laptop GPU, 16376MiB)\n",
      "WARNING ⚠️ Upgrade to torch>=2.0.0 for deterministic training.\n",
      "\u001b[34m\u001b[1mengine\\trainer: \u001b[0mtask=segment, mode=train, model=yolov8n-seg.pt, data=D:/BOULDERING/data/yolov8/datasets/boulder2024/boulder2024.yaml, epochs=200, time=None, patience=0, batch=4, imgsz=1024, save=True, save_period=20, cache=False, device=0, workers=0, project=YOLOv8-training, name=YOLOv8-200-epochs-19-02-2024-1024x1024, exist_ok=True, pretrained=True, optimizer=Adam, verbose=True, seed=0, deterministic=True, single_cls=False, rect=False, cos_lr=False, close_mosaic=10, resume=False, amp=True, fraction=1.0, profile=False, freeze=None, multi_scale=False, overlap_mask=True, mask_ratio=1, dropout=0.0, val=True, split=val, save_json=False, save_hybrid=False, conf=None, iou=0.7, max_det=2000, half=False, dnn=False, plots=True, source=None, vid_stride=1, stream_buffer=False, visualize=False, augment=False, agnostic_nms=False, classes=None, retina_masks=False, embed=None, show=False, save_frames=False, save_txt=False, save_conf=False, save_crop=False, show_labels=True, show_conf=True, show_boxes=True, line_width=None, format=torchscript, keras=False, optimize=False, int8=False, dynamic=False, simplify=False, opset=None, workspace=4, nms=False, lr0=0.001, lrf=0.01, momentum=0.937, weight_decay=0.0005, warmup_epochs=3.0, warmup_momentum=0.8, warmup_bias_lr=0.1, box=7.5, cls=0.5, dfl=1.5, pose=12.0, kobj=1.0, label_smoothing=0.0, nbs=64, hsv_h=0.015, hsv_s=0.7, hsv_v=0.4, degrees=0.0, translate=0.1, scale=0.5, shear=0.0, perspective=0.0, flipud=0.0, fliplr=0.5, mosaic=1.0, mixup=0.0, copy_paste=0.0, auto_augment=randaugment, erasing=0.4, crop_fraction=1.0, cfg=None, tracker=botsort.yaml, save_dir=YOLOv8-training\\YOLOv8-200-epochs-19-02-2024-1024x1024\n",
      "\n",
      "                   from  n    params  module                                       arguments                     \n",
      "  0                  -1  1       464  ultralytics.nn.modules.conv.Conv             [3, 16, 3, 2]                 \n",
      "  1                  -1  1      4672  ultralytics.nn.modules.conv.Conv             [16, 32, 3, 2]                \n",
      "  2                  -1  1      7360  ultralytics.nn.modules.block.C2f             [32, 32, 1, True]             \n",
      "  3                  -1  1     18560  ultralytics.nn.modules.conv.Conv             [32, 64, 3, 2]                \n",
      "  4                  -1  2     49664  ultralytics.nn.modules.block.C2f             [64, 64, 2, True]             \n",
      "  5                  -1  1     73984  ultralytics.nn.modules.conv.Conv             [64, 128, 3, 2]               \n",
      "  6                  -1  2    197632  ultralytics.nn.modules.block.C2f             [128, 128, 2, True]           \n",
      "  7                  -1  1    295424  ultralytics.nn.modules.conv.Conv             [128, 256, 3, 2]              \n",
      "  8                  -1  1    460288  ultralytics.nn.modules.block.C2f             [256, 256, 1, True]           \n",
      "  9                  -1  1    164608  ultralytics.nn.modules.block.SPPF            [256, 256, 5]                 \n",
      " 10                  -1  1         0  torch.nn.modules.upsampling.Upsample         [None, 2, 'nearest']          \n",
      " 11             [-1, 6]  1         0  ultralytics.nn.modules.conv.Concat           [1]                           \n",
      " 12                  -1  1    148224  ultralytics.nn.modules.block.C2f             [384, 128, 1]                 \n",
      " 13                  -1  1         0  torch.nn.modules.upsampling.Upsample         [None, 2, 'nearest']          \n",
      " 14             [-1, 4]  1         0  ultralytics.nn.modules.conv.Concat           [1]                           \n",
      " 15                  -1  1     37248  ultralytics.nn.modules.block.C2f             [192, 64, 1]                  \n",
      " 16                  -1  1     36992  ultralytics.nn.modules.conv.Conv             [64, 64, 3, 2]                \n",
      " 17            [-1, 12]  1         0  ultralytics.nn.modules.conv.Concat           [1]                           \n",
      " 18                  -1  1    123648  ultralytics.nn.modules.block.C2f             [192, 128, 1]                 \n",
      " 19                  -1  1    147712  ultralytics.nn.modules.conv.Conv             [128, 128, 3, 2]              \n",
      " 20             [-1, 9]  1         0  ultralytics.nn.modules.conv.Concat           [1]                           \n",
      " 21                  -1  1    493056  ultralytics.nn.modules.block.C2f             [384, 256, 1]                 \n",
      " 22        [15, 18, 21]  1   1004275  ultralytics.nn.modules.head.Segment          [1, 32, 64, [64, 128, 256]]   \n",
      "YOLOv8n-seg summary: 261 layers, 3263811 parameters, 3263795 gradients, 12.1 GFLOPs\n",
      "\n",
      "Transferred 417/417 items from pretrained weights\n",
      "\u001b[34m\u001b[1mTensorBoard: \u001b[0mStart with 'tensorboard --logdir YOLOv8-training\\YOLOv8-200-epochs-19-02-2024-1024x1024', view at http://localhost:6006/\n",
      "Freezing layer 'model.22.dfl.conv.weight'\n",
      "\u001b[34m\u001b[1mAMP: \u001b[0mrunning Automatic Mixed Precision (AMP) checks with YOLOv8n...\n",
      "\u001b[34m\u001b[1mAMP: \u001b[0mchecks passed ✅\n"
     ]
    },
    {
     "name": "stderr",
     "output_type": "stream",
     "text": [
      "\u001b[34m\u001b[1mtrain: \u001b[0mScanning D:\\BOULDERING\\data\\yolov8\\datasets\\boulder2024\\train\\labels.cache... 3957 images, 6 backgrounds, 0 corrupt: 100%|██████████| 3957/3957 [00:00<?, ?it/s]\u001b[0m"
     ]
    },
    {
     "name": "stdout",
     "output_type": "stream",
     "text": [
      "\u001b[34m\u001b[1mtrain: \u001b[0mWARNING ⚠️ D:\\BOULDERING\\data\\yolov8\\datasets\\boulder2024\\train\\images\\M174285569LE_00532_image.png: 1 duplicate labels removed\n",
      "\u001b[34m\u001b[1mtrain: \u001b[0mWARNING ⚠️ D:\\BOULDERING\\data\\yolov8\\datasets\\boulder2024\\train\\images\\M174285569LE_00776_image.png: 1 duplicate labels removed\n",
      "\u001b[34m\u001b[1mtrain: \u001b[0mWARNING ⚠️ D:\\BOULDERING\\data\\yolov8\\datasets\\boulder2024\\train\\images\\M174285569LE_00897_image.png: 1 duplicate labels removed\n",
      "\u001b[34m\u001b[1mtrain: \u001b[0mWARNING ⚠️ D:\\BOULDERING\\data\\yolov8\\datasets\\boulder2024\\train\\images\\M174285569LE_01137_image.png: 1 duplicate labels removed\n",
      "\u001b[34m\u001b[1malbumentations: \u001b[0mBlur(p=0.01, blur_limit=(3, 7)), MedianBlur(p=0.01, blur_limit=(3, 7)), ToGray(p=0.01), CLAHE(p=0.01, clip_limit=(1, 4.0), tile_grid_size=(8, 8))\n"
     ]
    },
    {
     "name": "stderr",
     "output_type": "stream",
     "text": [
      "\n",
      "\u001b[34m\u001b[1mval: \u001b[0mScanning D:\\BOULDERING\\data\\yolov8\\datasets\\boulder2024\\validation\\labels.cache... 739 images, 3 backgrounds, 0 corrupt: 100%|██████████| 739/739 [00:00<?, ?it/s]\u001b[0m"
     ]
    },
    {
     "name": "stdout",
     "output_type": "stream",
     "text": [
      "Plotting labels to YOLOv8-training\\YOLOv8-200-epochs-19-02-2024-1024x1024\\labels.jpg... \n"
     ]
    },
    {
     "name": "stderr",
     "output_type": "stream",
     "text": [
      "\n"
     ]
    },
    {
     "name": "stdout",
     "output_type": "stream",
     "text": [
      "\u001b[34m\u001b[1moptimizer:\u001b[0m Adam(lr=0.001, momentum=0.937) with parameter groups 66 weight(decay=0.0), 77 weight(decay=0.0005), 76 bias(decay=0.0)\n",
      "\u001b[34m\u001b[1mTensorBoard: \u001b[0mmodel graph visualization added ✅\n",
      "Image sizes 1024 train, 1024 val\n",
      "Using 0 dataloader workers\n",
      "Logging results to \u001b[1mYOLOv8-training\\YOLOv8-200-epochs-19-02-2024-1024x1024\u001b[0m\n",
      "Starting training for 200 epochs...\n",
      "\n",
      "      Epoch    GPU_mem   box_loss   seg_loss   cls_loss   dfl_loss  Instances       Size\n"
     ]
    },
    {
     "name": "stderr",
     "output_type": "stream",
     "text": [
      "      1/200      14.6G       2.08      2.089      1.489      0.976         89       1024: 100%|██████████| 990/990 [11:06<00:00,  1.49it/s]\n",
      "                 Class     Images  Instances      Box(P          R      mAP50  mAP50-95)     Mask(P          R      mAP50  mAP50-95):   2%|▏         | 2/93 [00:03<02:10,  \u001b[34m\u001b[1mwandb\u001b[0m: \u001b[33mWARNING\u001b[0m (User provided step: 1 is less than current step: 3. Dropping entry: {'train/box_loss': 2.08018, 'train/seg_loss': 2.08922, 'train/cls_loss': 1.48938, 'train/dfl_loss': 0.97601, '_timestamp': 1708358758.735709}).\n",
      "\u001b[34m\u001b[1mwandb\u001b[0m: \u001b[33mWARNING\u001b[0m (User provided step: 1 is less than current step: 3. Dropping entry: {'lr/pg0': 0.06703333333333333, 'lr/pg1': 0.00033299663299663304, 'lr/pg2': 0.00033299663299663304, '_timestamp': 1708358758.735709}).\n",
      "                 Class     Images  Instances      Box(P          R      mAP50  mAP50-95)     Mask(P          R      mAP50  mAP50-95): 100%|██████████| 93/93 [01:57<00:00, \n"
     ]
    },
    {
     "name": "stdout",
     "output_type": "stream",
     "text": [
      "                   all        739      26830      0.621      0.555      0.615      0.256      0.457      0.377      0.353      0.104\n",
      "\n",
      "      Epoch    GPU_mem   box_loss   seg_loss   cls_loss   dfl_loss  Instances       Size\n"
     ]
    },
    {
     "name": "stderr",
     "output_type": "stream",
     "text": [
      "      2/200      4.38G      1.961      1.941       1.54     0.9783        331       1024:   1%|          | 7/990 [00:05<15:38,  1.05it/s]\u001b[34m\u001b[1mwandb\u001b[0m: \u001b[33mWARNING\u001b[0m (User provided step: 1 is less than current step: 3. Dropping entry: {'metrics/precision(B)': 0.62094, 'metrics/recall(B)': 0.5555, 'metrics/mAP50(B)': 0.61478, 'metrics/mAP50-95(B)': 0.25627, 'metrics/precision(M)': 0.45692, 'metrics/recall(M)': 0.37684, 'metrics/mAP50(M)': 0.3531, 'metrics/mAP50-95(M)': 0.10379, 'val/box_loss': 1.93409, 'val/seg_loss': 1.94992, 'val/cls_loss': 1.30917, 'val/dfl_loss': 0.93778, '_timestamp': 1708358877.184579}).\n",
      "\u001b[34m\u001b[1mwandb\u001b[0m: \u001b[33mWARNING\u001b[0m (User provided step: 1 is less than current step: 3. Dropping entry: {'labels': {'_type': 'image-file', 'sha256': '8f8fd74f08bdb28037150838b59f10c0f56833f5a735b6e8654fafeb1d6913ac', 'size': 114480, 'path': 'media/images/labels_3_8f8fd74f08bdb2803715.jpg', 'format': 'jpg', 'width': 1600, 'height': 1600}, '_timestamp': 1708358877.1915689}).\n",
      "\u001b[34m\u001b[1mwandb\u001b[0m: \u001b[33mWARNING\u001b[0m (User provided step: 1 is less than current step: 3. Dropping entry: {'train_batch0': {'_type': 'image-file', 'sha256': 'd1bba1fc3f5b07b191d78da78ceb291a5ddceb474c1df0cc5e3b050f8db8bb53', 'size': 265024, 'path': 'media/images/train_batch0_3_d1bba1fc3f5b07b191d7.jpg', 'format': 'jpg', 'width': 1920, 'height': 1920}, '_timestamp': 1708358877.2025833}).\n",
      "\u001b[34m\u001b[1mwandb\u001b[0m: \u001b[33mWARNING\u001b[0m (User provided step: 1 is less than current step: 3. Dropping entry: {'train_batch1': {'_type': 'image-file', 'sha256': '69f31858a34a4d196117be5d4c305cc88575d494174f4594edc10bb75bc2af17', 'size': 297577, 'path': 'media/images/train_batch1_3_69f31858a34a4d196117.jpg', 'format': 'jpg', 'width': 1920, 'height': 1920}, '_timestamp': 1708358877.2135506}).\n",
      "\u001b[34m\u001b[1mwandb\u001b[0m: \u001b[33mWARNING\u001b[0m (User provided step: 1 is less than current step: 3. Dropping entry: {'train_batch2': {'_type': 'image-file', 'sha256': '2c4242bf8af2edb4952ffc4a47119d178cb1338bd8f8d74b26801e3602f8ccaa', 'size': 327505, 'path': 'media/images/train_batch2_3_2c4242bf8af2edb4952f.jpg', 'format': 'jpg', 'width': 1920, 'height': 1920}, '_timestamp': 1708358877.223584}).\n",
      "\u001b[34m\u001b[1mwandb\u001b[0m: \u001b[33mWARNING\u001b[0m (User provided step: 1 is less than current step: 3. Dropping entry: {'model/parameters': 3263811, 'model/GFLOPs': 12.109, 'model/speed_PyTorch(ms)': 17.729, '_timestamp': 1708358877.2605772}).\n",
      "      2/200      18.2G       2.05      2.045      1.432     0.9713        520       1024:  83%|████████▎ | 825/990 [30:38<06:07,  2.23s/it]\n"
     ]
    },
    {
     "ename": "KeyboardInterrupt",
     "evalue": "",
     "output_type": "error",
     "traceback": [
      "\u001b[1;31m---------------------------------------------------------------------------\u001b[0m",
      "\u001b[1;31mKeyboardInterrupt\u001b[0m                         Traceback (most recent call last)",
      "Cell \u001b[1;32mIn[13], line 1\u001b[0m\n\u001b[1;32m----> 1\u001b[0m results \u001b[38;5;241m=\u001b[39m \u001b[43mmodel\u001b[49m\u001b[38;5;241;43m.\u001b[39;49m\u001b[43mtrain\u001b[49m\u001b[43m(\u001b[49m\u001b[43mdata\u001b[49m\u001b[38;5;241;43m=\u001b[39;49m\u001b[38;5;124;43m\"\u001b[39;49m\u001b[38;5;124;43mD:/BOULDERING/data/yolov8/datasets/boulder2024/boulder2024.yaml\u001b[39;49m\u001b[38;5;124;43m\"\u001b[39;49m\u001b[43m,\u001b[49m\n\u001b[0;32m      2\u001b[0m \u001b[43m                      \u001b[49m\u001b[43mproject\u001b[49m\u001b[38;5;241;43m=\u001b[39;49m\u001b[38;5;124;43m\"\u001b[39;49m\u001b[38;5;124;43mYOLOv8-training\u001b[39;49m\u001b[38;5;124;43m\"\u001b[39;49m\u001b[43m,\u001b[49m\n\u001b[0;32m      3\u001b[0m \u001b[43m                      \u001b[49m\u001b[43mname\u001b[49m\u001b[38;5;241;43m=\u001b[39;49m\u001b[38;5;124;43m\"\u001b[39;49m\u001b[38;5;124;43mYOLOv8-200-epochs-19-02-2024-1024x1024\u001b[39;49m\u001b[38;5;124;43m\"\u001b[39;49m\u001b[43m,\u001b[49m\n\u001b[0;32m      4\u001b[0m \u001b[43m                      \u001b[49m\u001b[43msave_dir\u001b[49m\u001b[38;5;241;43m=\u001b[39;49m\u001b[38;5;124;43m\"\u001b[39;49m\u001b[38;5;124;43mD:/BOULDERING/data/yolov8/training/\u001b[39;49m\u001b[38;5;124;43m\"\u001b[39;49m\u001b[43m,\u001b[49m\u001b[43m \u001b[49m\n\u001b[0;32m      5\u001b[0m \u001b[43m                      \u001b[49m\u001b[43mepochs\u001b[49m\u001b[38;5;241;43m=\u001b[39;49m\u001b[38;5;241;43m200\u001b[39;49m\u001b[43m,\u001b[49m\u001b[43m \u001b[49m\u001b[38;5;66;43;03m# (int) number of epochs to train for\u001b[39;49;00m\n\u001b[0;32m      6\u001b[0m \u001b[43m                      \u001b[49m\u001b[43mpatience\u001b[49m\u001b[38;5;241;43m=\u001b[39;49m\u001b[38;5;241;43m0\u001b[39;49m\u001b[43m,\u001b[49m\u001b[43m \u001b[49m\u001b[38;5;66;43;03m#I am setting patience=0 to disable early stopping.\u001b[39;49;00m\n\u001b[0;32m      7\u001b[0m \u001b[43m                      \u001b[49m\u001b[43mbatch\u001b[49m\u001b[38;5;241;43m=\u001b[39;49m\u001b[38;5;241;43m4\u001b[39;49m\u001b[43m,\u001b[49m\u001b[43m \u001b[49m\u001b[38;5;66;43;03m# (int) number of images per batch (-1 for AutoBatch)\u001b[39;49;00m\n\u001b[0;32m      8\u001b[0m \u001b[43m                      \u001b[49m\u001b[43mimgsz\u001b[49m\u001b[38;5;241;43m=\u001b[39;49m\u001b[38;5;241;43m1024\u001b[39;49m\u001b[43m,\u001b[49m\u001b[43m \u001b[49m\u001b[38;5;66;43;03m# (int | list) input images size as int for train and val modes, or list[w,h] for predict and export modes\u001b[39;49;00m\n\u001b[0;32m      9\u001b[0m \u001b[43m                      \u001b[49m\u001b[43msave\u001b[49m\u001b[38;5;241;43m=\u001b[39;49m\u001b[38;5;28;43;01mTrue\u001b[39;49;00m\u001b[43m,\u001b[49m\n\u001b[0;32m     10\u001b[0m \u001b[43m                      \u001b[49m\u001b[43msave_period\u001b[49m\u001b[38;5;241;43m=\u001b[39;49m\u001b[38;5;241;43m20\u001b[39;49m\u001b[43m,\u001b[49m\u001b[43m \u001b[49m\u001b[38;5;66;43;03m# (int) Save checkpoint every x epochs (disabled if < 1)\u001b[39;49;00m\n\u001b[0;32m     11\u001b[0m \u001b[43m                      \u001b[49m\u001b[43mdevice\u001b[49m\u001b[38;5;241;43m=\u001b[39;49m\u001b[38;5;241;43m0\u001b[39;49m\u001b[43m,\u001b[49m\n\u001b[0;32m     12\u001b[0m \u001b[43m                      \u001b[49m\u001b[43mworkers\u001b[49m\u001b[38;5;241;43m=\u001b[39;49m\u001b[38;5;241;43m0\u001b[39;49m\u001b[43m,\u001b[49m\n\u001b[0;32m     13\u001b[0m \u001b[43m                      \u001b[49m\u001b[43mexist_ok\u001b[49m\u001b[38;5;241;43m=\u001b[39;49m\u001b[38;5;28;43;01mTrue\u001b[39;49;00m\u001b[43m,\u001b[49m\u001b[43m \u001b[49m\u001b[38;5;66;43;03m# (bool) whether to overwrite existing experiment\u001b[39;49;00m\n\u001b[0;32m     14\u001b[0m \u001b[43m                      \u001b[49m\u001b[43moptimizer\u001b[49m\u001b[38;5;241;43m=\u001b[39;49m\u001b[38;5;124;43m\"\u001b[39;49m\u001b[38;5;124;43mAdam\u001b[39;49m\u001b[38;5;124;43m\"\u001b[39;49m\u001b[43m,\u001b[49m\u001b[43m \u001b[49m\u001b[38;5;66;43;03m# wonder if SGD would go faster\u001b[39;49;00m\n\u001b[0;32m     15\u001b[0m \u001b[43m                      \u001b[49m\u001b[43mlr0\u001b[49m\u001b[38;5;241;43m=\u001b[39;49m\u001b[38;5;241;43m0.001\u001b[39;49m\u001b[43m,\u001b[49m\n\u001b[0;32m     16\u001b[0m \u001b[43m                      \u001b[49m\u001b[43mval\u001b[49m\u001b[38;5;241;43m=\u001b[39;49m\u001b[38;5;28;43;01mTrue\u001b[39;49;00m\u001b[43m,\u001b[49m\n\u001b[0;32m     17\u001b[0m \u001b[43m                      \u001b[49m\u001b[43mplots\u001b[49m\u001b[38;5;241;43m=\u001b[39;49m\u001b[38;5;28;43;01mTrue\u001b[39;49;00m\u001b[43m,\u001b[49m\n\u001b[0;32m     18\u001b[0m \u001b[43m                      \u001b[49m\u001b[43mverbose\u001b[49m\u001b[38;5;241;43m=\u001b[39;49m\u001b[38;5;28;43;01mTrue\u001b[39;49;00m\u001b[43m,\u001b[49m\n\u001b[0;32m     19\u001b[0m \u001b[43m                      \u001b[49m\u001b[43mresume\u001b[49m\u001b[38;5;241;43m=\u001b[39;49m\u001b[38;5;28;43;01mFalse\u001b[39;49;00m\u001b[43m,\u001b[49m\n\u001b[0;32m     20\u001b[0m \u001b[43m                      \u001b[49m\u001b[43mcache\u001b[49m\u001b[38;5;241;43m=\u001b[39;49m\u001b[38;5;28;43;01mFalse\u001b[39;49;00m\u001b[43m,\u001b[49m\u001b[43m \u001b[49m\u001b[38;5;66;43;03m# (bool) True/ram, disk or False. Use cache for data loading\u001b[39;49;00m\n\u001b[0;32m     21\u001b[0m \u001b[43m                      \u001b[49m\u001b[43mseed\u001b[49m\u001b[38;5;241;43m=\u001b[39;49m\u001b[38;5;241;43m0\u001b[39;49m\u001b[43m,\u001b[49m\u001b[43m \u001b[49m\u001b[38;5;66;43;03m# (int) random seed for reproducibility\u001b[39;49;00m\n\u001b[0;32m     22\u001b[0m \u001b[43m                      \u001b[49m\u001b[43mclose_mosaic\u001b[49m\u001b[38;5;241;43m=\u001b[39;49m\u001b[38;5;241;43m10\u001b[39;49m\u001b[43m,\u001b[49m\u001b[43m \u001b[49m\u001b[38;5;66;43;03m# (int) disable mosaic augmentation for final epochs (0 to disable)\u001b[39;49;00m\n\u001b[0;32m     23\u001b[0m \u001b[43m                      \u001b[49m\u001b[43moverlap_mask\u001b[49m\u001b[38;5;241;43m=\u001b[39;49m\u001b[38;5;28;43;01mTrue\u001b[39;49;00m\u001b[43m,\u001b[49m\u001b[43m \u001b[49m\u001b[38;5;66;43;03m# (bool) masks should overlap during training (segment train only)\u001b[39;49;00m\n\u001b[0;32m     24\u001b[0m \u001b[43m                      \u001b[49m\u001b[43miou\u001b[49m\u001b[38;5;241;43m=\u001b[39;49m\u001b[38;5;241;43m0.7\u001b[39;49m\u001b[43m,\u001b[49m\u001b[43m \u001b[49m\u001b[38;5;66;43;03m# (float) intersection over union (IoU) threshold for NMS\u001b[39;49;00m\n\u001b[0;32m     25\u001b[0m \u001b[43m                      \u001b[49m\u001b[43mmask_ratio\u001b[49m\u001b[38;5;241;43m=\u001b[39;49m\u001b[38;5;241;43m1\u001b[39;49m\u001b[43m,\u001b[49m\u001b[43m \u001b[49m\u001b[38;5;66;43;03m# I don't want any downsampling\u001b[39;49;00m\n\u001b[0;32m     26\u001b[0m \u001b[43m                      \u001b[49m\u001b[43mmax_det\u001b[49m\u001b[38;5;241;43m=\u001b[39;49m\u001b[38;5;241;43m2000\u001b[39;49m\u001b[43m,\u001b[49m\u001b[43m \u001b[49m\u001b[38;5;66;43;03m# (int) maximum number of detections per image\u001b[39;49;00m\n\u001b[0;32m     27\u001b[0m \u001b[43m                      \u001b[49m\u001b[43mtranslate\u001b[49m\u001b[38;5;241;43m=\u001b[39;49m\u001b[38;5;241;43m0.1\u001b[39;49m\u001b[43m,\u001b[49m\u001b[43m \u001b[49m\u001b[38;5;66;43;03m# image translation (+/- fraction)\u001b[39;49;00m\n\u001b[0;32m     28\u001b[0m \u001b[43m                      \u001b[49m\u001b[43mscale\u001b[49m\u001b[38;5;241;43m=\u001b[39;49m\u001b[38;5;241;43m0.5\u001b[39;49m\u001b[43m,\u001b[49m\u001b[43m \u001b[49m\u001b[38;5;66;43;03m# image scale (+/- gain)\u001b[39;49;00m\n\u001b[0;32m     29\u001b[0m \u001b[43m                      \u001b[49m\u001b[43mshear\u001b[49m\u001b[38;5;241;43m=\u001b[39;49m\u001b[38;5;241;43m0.0\u001b[39;49m\u001b[43m,\u001b[49m\u001b[43m \u001b[49m\u001b[38;5;66;43;03m# image shear (+/- deg)\u001b[39;49;00m\n\u001b[0;32m     30\u001b[0m \u001b[43m                      \u001b[49m\u001b[43mperspective\u001b[49m\u001b[38;5;241;43m=\u001b[39;49m\u001b[38;5;241;43m0.0\u001b[39;49m\u001b[43m,\u001b[49m\u001b[43m \u001b[49m\u001b[38;5;66;43;03m# (float) image perspective (+/- fraction), range 0-0.001\u001b[39;49;00m\n\u001b[0;32m     31\u001b[0m \u001b[43m                      \u001b[49m\u001b[43mflipud\u001b[49m\u001b[38;5;241;43m=\u001b[39;49m\u001b[38;5;241;43m0.0\u001b[39;49m\u001b[43m,\u001b[49m\u001b[43m \u001b[49m\u001b[38;5;66;43;03m# image flip up-down (probability)\u001b[39;49;00m\n\u001b[0;32m     32\u001b[0m \u001b[43m                      \u001b[49m\u001b[43mfliplr\u001b[49m\u001b[38;5;241;43m=\u001b[39;49m\u001b[38;5;241;43m0.5\u001b[39;49m\u001b[43m,\u001b[49m\u001b[43m \u001b[49m\u001b[38;5;66;43;03m# image flip left-right (probability)\u001b[39;49;00m\n\u001b[0;32m     33\u001b[0m \u001b[43m                      \u001b[49m\u001b[43mmosaic\u001b[49m\u001b[38;5;241;43m=\u001b[39;49m\u001b[38;5;241;43m1.0\u001b[39;49m\u001b[43m,\u001b[49m\u001b[43m \u001b[49m\u001b[38;5;66;43;03m# image mosaic (probability)\u001b[39;49;00m\n\u001b[0;32m     34\u001b[0m \u001b[43m                      \u001b[49m\u001b[43mmixup\u001b[49m\u001b[38;5;241;43m=\u001b[39;49m\u001b[38;5;241;43m0.0\u001b[39;49m\u001b[43m,\u001b[49m\u001b[43m \u001b[49m\u001b[38;5;66;43;03m# image mixup (probability)\u001b[39;49;00m\n\u001b[0;32m     35\u001b[0m \u001b[43m                      \u001b[49m\u001b[43mcopy_paste\u001b[49m\u001b[38;5;241;43m=\u001b[39;49m\u001b[38;5;241;43m0.0\u001b[39;49m\u001b[43m,\u001b[49m\u001b[43m \u001b[49m\u001b[38;5;66;43;03m# segment copy-paste (probability)\u001b[39;49;00m\n\u001b[0;32m     36\u001b[0m \u001b[43m                      \u001b[49m\u001b[43merasing\u001b[49m\u001b[38;5;241;43m=\u001b[39;49m\u001b[38;5;241;43m0.4\u001b[39;49m\u001b[43m)\u001b[49m \u001b[38;5;66;03m# let's upscale from 500 to 1024\u001b[39;00m\n",
      "File \u001b[1;32m~\\AppData\\Local\\miniconda3\\envs\\deep-learning\\lib\\site-packages\\ultralytics\\engine\\model.py:601\u001b[0m, in \u001b[0;36mModel.train\u001b[1;34m(self, trainer, **kwargs)\u001b[0m\n\u001b[0;32m    598\u001b[0m             \u001b[38;5;28;01mpass\u001b[39;00m\n\u001b[0;32m    600\u001b[0m \u001b[38;5;28mself\u001b[39m\u001b[38;5;241m.\u001b[39mtrainer\u001b[38;5;241m.\u001b[39mhub_session \u001b[38;5;241m=\u001b[39m \u001b[38;5;28mself\u001b[39m\u001b[38;5;241m.\u001b[39msession  \u001b[38;5;66;03m# attach optional HUB session\u001b[39;00m\n\u001b[1;32m--> 601\u001b[0m \u001b[38;5;28;43mself\u001b[39;49m\u001b[38;5;241;43m.\u001b[39;49m\u001b[43mtrainer\u001b[49m\u001b[38;5;241;43m.\u001b[39;49m\u001b[43mtrain\u001b[49m\u001b[43m(\u001b[49m\u001b[43m)\u001b[49m\n\u001b[0;32m    602\u001b[0m \u001b[38;5;66;03m# Update model and cfg after training\u001b[39;00m\n\u001b[0;32m    603\u001b[0m \u001b[38;5;28;01mif\u001b[39;00m RANK \u001b[38;5;129;01min\u001b[39;00m (\u001b[38;5;241m-\u001b[39m\u001b[38;5;241m1\u001b[39m, \u001b[38;5;241m0\u001b[39m):\n",
      "File \u001b[1;32m~\\AppData\\Local\\miniconda3\\envs\\deep-learning\\lib\\site-packages\\ultralytics\\engine\\trainer.py:208\u001b[0m, in \u001b[0;36mBaseTrainer.train\u001b[1;34m(self)\u001b[0m\n\u001b[0;32m    205\u001b[0m         ddp_cleanup(\u001b[38;5;28mself\u001b[39m, \u001b[38;5;28mstr\u001b[39m(file))\n\u001b[0;32m    207\u001b[0m \u001b[38;5;28;01melse\u001b[39;00m:\n\u001b[1;32m--> 208\u001b[0m     \u001b[38;5;28;43mself\u001b[39;49m\u001b[38;5;241;43m.\u001b[39;49m\u001b[43m_do_train\u001b[49m\u001b[43m(\u001b[49m\u001b[43mworld_size\u001b[49m\u001b[43m)\u001b[49m\n",
      "File \u001b[1;32m~\\AppData\\Local\\miniconda3\\envs\\deep-learning\\lib\\site-packages\\ultralytics\\engine\\trainer.py:407\u001b[0m, in \u001b[0;36mBaseTrainer._do_train\u001b[1;34m(self, world_size)\u001b[0m\n\u001b[0;32m    404\u001b[0m losses \u001b[38;5;241m=\u001b[39m \u001b[38;5;28mself\u001b[39m\u001b[38;5;241m.\u001b[39mtloss \u001b[38;5;28;01mif\u001b[39;00m loss_len \u001b[38;5;241m>\u001b[39m \u001b[38;5;241m1\u001b[39m \u001b[38;5;28;01melse\u001b[39;00m torch\u001b[38;5;241m.\u001b[39munsqueeze(\u001b[38;5;28mself\u001b[39m\u001b[38;5;241m.\u001b[39mtloss, \u001b[38;5;241m0\u001b[39m)\n\u001b[0;32m    405\u001b[0m \u001b[38;5;28;01mif\u001b[39;00m RANK \u001b[38;5;129;01min\u001b[39;00m (\u001b[38;5;241m-\u001b[39m\u001b[38;5;241m1\u001b[39m, \u001b[38;5;241m0\u001b[39m):\n\u001b[0;32m    406\u001b[0m     pbar\u001b[38;5;241m.\u001b[39mset_description(\n\u001b[1;32m--> 407\u001b[0m         \u001b[43m(\u001b[49m\u001b[38;5;124;43m\"\u001b[39;49m\u001b[38;5;132;43;01m%11s\u001b[39;49;00m\u001b[38;5;124;43m\"\u001b[39;49m\u001b[43m \u001b[49m\u001b[38;5;241;43m*\u001b[39;49m\u001b[43m \u001b[49m\u001b[38;5;241;43m2\u001b[39;49m\u001b[43m \u001b[49m\u001b[38;5;241;43m+\u001b[39;49m\u001b[43m \u001b[49m\u001b[38;5;124;43m\"\u001b[39;49m\u001b[38;5;132;43;01m%11.4g\u001b[39;49;00m\u001b[38;5;124;43m\"\u001b[39;49m\u001b[43m \u001b[49m\u001b[38;5;241;43m*\u001b[39;49m\u001b[43m \u001b[49m\u001b[43m(\u001b[49m\u001b[38;5;241;43m2\u001b[39;49m\u001b[43m \u001b[49m\u001b[38;5;241;43m+\u001b[39;49m\u001b[43m \u001b[49m\u001b[43mloss_len\u001b[49m\u001b[43m)\u001b[49m\u001b[43m)\u001b[49m\n\u001b[0;32m    408\u001b[0m \u001b[43m        \u001b[49m\u001b[38;5;241;43m%\u001b[39;49m\u001b[43m \u001b[49m\u001b[43m(\u001b[49m\u001b[38;5;124;43mf\u001b[39;49m\u001b[38;5;124;43m\"\u001b[39;49m\u001b[38;5;132;43;01m{\u001b[39;49;00m\u001b[43mepoch\u001b[49m\u001b[38;5;250;43m \u001b[39;49m\u001b[38;5;241;43m+\u001b[39;49m\u001b[38;5;250;43m \u001b[39;49m\u001b[38;5;241;43m1\u001b[39;49m\u001b[38;5;132;43;01m}\u001b[39;49;00m\u001b[38;5;124;43m/\u001b[39;49m\u001b[38;5;132;43;01m{\u001b[39;49;00m\u001b[38;5;28;43mself\u001b[39;49m\u001b[38;5;241;43m.\u001b[39;49m\u001b[43mepochs\u001b[49m\u001b[38;5;132;43;01m}\u001b[39;49;00m\u001b[38;5;124;43m\"\u001b[39;49m\u001b[43m,\u001b[49m\u001b[43m \u001b[49m\u001b[43mmem\u001b[49m\u001b[43m,\u001b[49m\u001b[43m \u001b[49m\u001b[38;5;241;43m*\u001b[39;49m\u001b[43mlosses\u001b[49m\u001b[43m,\u001b[49m\u001b[43m \u001b[49m\u001b[43mbatch\u001b[49m\u001b[43m[\u001b[49m\u001b[38;5;124;43m\"\u001b[39;49m\u001b[38;5;124;43mcls\u001b[39;49m\u001b[38;5;124;43m\"\u001b[39;49m\u001b[43m]\u001b[49m\u001b[38;5;241;43m.\u001b[39;49m\u001b[43mshape\u001b[49m\u001b[43m[\u001b[49m\u001b[38;5;241;43m0\u001b[39;49m\u001b[43m]\u001b[49m\u001b[43m,\u001b[49m\u001b[43m \u001b[49m\u001b[43mbatch\u001b[49m\u001b[43m[\u001b[49m\u001b[38;5;124;43m\"\u001b[39;49m\u001b[38;5;124;43mimg\u001b[39;49m\u001b[38;5;124;43m\"\u001b[39;49m\u001b[43m]\u001b[49m\u001b[38;5;241;43m.\u001b[39;49m\u001b[43mshape\u001b[49m\u001b[43m[\u001b[49m\u001b[38;5;241;43m-\u001b[39;49m\u001b[38;5;241;43m1\u001b[39;49m\u001b[43m]\u001b[49m\u001b[43m)\u001b[49m\n\u001b[0;32m    409\u001b[0m     )\n\u001b[0;32m    410\u001b[0m     \u001b[38;5;28mself\u001b[39m\u001b[38;5;241m.\u001b[39mrun_callbacks(\u001b[38;5;124m\"\u001b[39m\u001b[38;5;124mon_batch_end\u001b[39m\u001b[38;5;124m\"\u001b[39m)\n\u001b[0;32m    411\u001b[0m     \u001b[38;5;28;01mif\u001b[39;00m \u001b[38;5;28mself\u001b[39m\u001b[38;5;241m.\u001b[39margs\u001b[38;5;241m.\u001b[39mplots \u001b[38;5;129;01mand\u001b[39;00m ni \u001b[38;5;129;01min\u001b[39;00m \u001b[38;5;28mself\u001b[39m\u001b[38;5;241m.\u001b[39mplot_idx:\n",
      "\u001b[1;31mKeyboardInterrupt\u001b[0m: "
     ]
    }
   ],
   "source": [
    "results = model.train(data=\"D:/BOULDERING/data/yolov8/datasets/boulder2024/boulder2024.yaml\",\n",
    "                      project=\"YOLOv8-training\",\n",
    "                      name=\"YOLOv8-200-epochs-19-02-2024-1024x1024\",\n",
    "                      save_dir=\"D:/BOULDERING/data/yolov8/training/\", \n",
    "                      epochs=200, # (int) number of epochs to train for\n",
    "                      patience=0, #I am setting patience=0 to disable early stopping.\n",
    "                      batch=4, # (int) number of images per batch (-1 for AutoBatch)\n",
    "                      imgsz=1024, # (int | list) input images size as int for train and val modes, or list[w,h] for predict and export modes\n",
    "                      save=True,\n",
    "                      save_period=20, # (int) Save checkpoint every x epochs (disabled if < 1)\n",
    "                      device=0,\n",
    "                      workers=0,\n",
    "                      exist_ok=False, # (bool) whether to overwrite existing experiment\n",
    "                      optimizer=\"Adam\", # wonder if SGD would go faster\n",
    "                      lr0=0.001,\n",
    "                      val=True,\n",
    "                      plots=True,\n",
    "                      verbose=True,\n",
    "                      resume=False,\n",
    "                      cache=False, # (bool) True/ram, disk or False. Use cache for data loading\n",
    "                      seed=0, # (int) random seed for reproducibility\n",
    "                      close_mosaic=10, # (int) disable mosaic augmentation for final epochs (0 to disable)\n",
    "                      overlap_mask=True, # (bool) masks should overlap during training (segment train only)\n",
    "                      iou=0.7, # (float) intersection over union (IoU) threshold for NMS\n",
    "                      mask_ratio=1, # I don't want any downsampling, it was actually giving better results with 4? not sure why\n",
    "                      max_det=2000, # (int) maximum number of detections per image\n",
    "                      translate=0.1, # image translation (+/- fraction)\n",
    "                      scale=0.5, # image scale (+/- gain)\n",
    "                      shear=0.0, # image shear (+/- deg)\n",
    "                      perspective=0.0, # (float) image perspective (+/- fraction), range 0-0.001\n",
    "                      flipud=0.0, # image flip up-down (probability)\n",
    "                      fliplr=0.5, # image flip left-right (probability)\n",
    "                      mosaic=1.0, # image mosaic (probability)\n",
    "                      mixup=0.0, # image mixup (probability)\n",
    "                      copy_paste=0.0, # segment copy-paste (probability)\n",
    "                      erasing=0.4) # let's upscale from 500 to 1024"
   ]
  },
  {
   "cell_type": "markdown",
   "id": "592358e2-7cad-4b57-a0a0-bc5632633a62",
   "metadata": {},
   "source": [
    "I feel like there is a huge difference on how long it takes to go through an epoch. Sometimes it takes about 10 min, and then, some other times it is showing up to one hour. I am not 100% sure why this is the case... The re-scaling of the image should happen at the batch level, so I do not really understand why it would be such a large variations. "
   ]
  },
  {
   "cell_type": "markdown",
   "id": "1833e647-dd3f-43df-8f04-c0cba2d9a14f",
   "metadata": {},
   "source": [
    "## Inference\n",
    "\n",
    "Now that our model is trained, we can use it for inference. You can load the best model or the latest. I am picking the latest."
   ]
  },
  {
   "cell_type": "code",
   "execution_count": null,
   "id": "d94072a4-cb35-45dc-a30c-c85a20dbbe36",
   "metadata": {},
   "outputs": [],
   "source": [
    "my_new_model = YOLO('/content/drive/MyDrive/ColabNotebooks/data/3D-EM-Platelet/YOLOV8-data/results/200_epochs-4/weights/last.pt')\n",
    "new_results = my_new_model.predict(new_image, conf=0.2)"
   ]
  },
  {
   "cell_type": "markdown",
   "id": "2ef00938-15a7-4ea9-aa4f-2d370dff876d",
   "metadata": {},
   "source": [
    "The results are stored in a variable 'new_results'. Since we only have one image for segmentation, we will only have one set of results. Therefore, let us work with that one result."
   ]
  },
  {
   "cell_type": "code",
   "execution_count": null,
   "id": "ae9ecfee-9428-417a-97ad-d874efbb66b0",
   "metadata": {},
   "outputs": [],
   "source": [
    "new_result_array = new_results[0].plot()\n",
    "plt.figure(figsize=(12, 12))\n",
    "plt.imshow(new_result_array)"
   ]
  },
  {
   "cell_type": "markdown",
   "id": "c4ac8429-a6b3-479d-a3a9-0355e39ac9cc",
   "metadata": {},
   "source": [
    "### How to extract bounding boxes and segmented masks from the result"
   ]
  },
  {
   "cell_type": "code",
   "execution_count": null,
   "id": "4a4076bb-6450-40bd-bf15-5adfa826ede6",
   "metadata": {},
   "outputs": [],
   "source": [
    "new_result = new_results[0]\n",
    "new_result"
   ]
  },
  {
   "cell_type": "markdown",
   "id": "343ab8a6-07c8-4fed-b762-dfa637850809",
   "metadata": {},
   "source": [
    "#### bounding boxes\n",
    "See https://github.com/bnsreenu/python_for_microscopists/blob/master/334_training_YOLO_V8_EM_platelets_converted_labels.ipynb if you want to extract masks per classes. Also there is an interesting script to look at region properties (regionprops from skimage) of masks. "
   ]
  },
  {
   "cell_type": "code",
   "execution_count": null,
   "id": "07b64e46-4274-4cbc-9351-71e88a90847f",
   "metadata": {},
   "outputs": [],
   "source": [
    "class_names = new_result.names.values()\n",
    "class_names"
   ]
  },
  {
   "cell_type": "code",
   "execution_count": null,
   "id": "593c8a6d-32c2-471e-9a14-6d7823596635",
   "metadata": {},
   "outputs": [],
   "source": [
    "# Extract the boxes, which likely contain class IDs\n",
    "detected_boxes = new_result.boxes.data\n",
    "# Extract class IDs from the detected boxes\n",
    "class_labels = detected_boxes[:, -1].int().tolist()\n",
    "# Initialize a dictionary to hold masks by class\n",
    "masks_by_class = {name: [] for name in new_result.names.values()}\n",
    "\n",
    "# Iterate through the masks and class labels\n",
    "for mask, class_id in zip(extracted_masks, class_labels):\n",
    "    class_name = new_result.names[class_id]  # Map class ID to class name\n",
    "    masks_by_class[class_name].append(mask.cpu().numpy())"
   ]
  },
  {
   "cell_type": "markdown",
   "id": "5d5a7c8f-5428-4818-a58c-1ff41ed397fb",
   "metadata": {},
   "source": [
    "#### mask"
   ]
  },
  {
   "cell_type": "code",
   "execution_count": null,
   "id": "274b3432-9653-4ed8-a713-c906ec5d1906",
   "metadata": {},
   "outputs": [],
   "source": [
    "extracted_masks = new_result.masks.data\n",
    "extracted_masks.shape"
   ]
  },
  {
   "cell_type": "code",
   "execution_count": null,
   "id": "635bdbcd-fa2e-4c80-8c0d-54224ee129db",
   "metadata": {},
   "outputs": [],
   "source": [
    "masks_array = extracted_masks.cpu().numpy()"
   ]
  },
  {
   "cell_type": "code",
   "execution_count": null,
   "id": "5f8f0ede-e1fa-47e5-aef6-2dc09df3cc83",
   "metadata": {},
   "outputs": [],
   "source": [
    "plt.imshow(masks_array[9])"
   ]
  },
  {
   "cell_type": "markdown",
   "id": "db33ae1c-2cce-4373-aba3-5b3ddbc84b80",
   "metadata": {},
   "source": [
    "## Export model to ONNX for deployment"
   ]
  },
  {
   "cell_type": "code",
   "execution_count": null,
   "id": "ab309aab-580f-40d9-8713-932f6469673b",
   "metadata": {},
   "outputs": [],
   "source": [
    "my_new_model.export(format='onnx', imgsz=[1024,1024]) # do you have to give images with a specific size?"
   ]
  }
 ],
 "metadata": {
  "kernelspec": {
   "display_name": "Python 3 (ipykernel)",
   "language": "python",
   "name": "python3"
  },
  "language_info": {
   "codemirror_mode": {
    "name": "ipython",
    "version": 3
   },
   "file_extension": ".py",
   "mimetype": "text/x-python",
   "name": "python",
   "nbconvert_exporter": "python",
   "pygments_lexer": "ipython3",
   "version": "3.9.18"
  }
 },
 "nbformat": 4,
 "nbformat_minor": 5
}
