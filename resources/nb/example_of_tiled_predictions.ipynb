{
 "cells": [
  {
   "cell_type": "code",
   "execution_count": 1,
   "id": "81cd5765-a227-498c-b30b-7f37bbd98f79",
   "metadata": {},
   "outputs": [],
   "source": [
    "from pathlib import Path\n",
    "from YOLOv8BeyondEarth.predict import get_sliced_prediction\n",
    "from rastertools_BOULDERING import raster, metadata as raster_metadata, crs as raster_crs\n",
    "from shptools_BOULDERING import shp, geometry as shp_geom, geomorph as shp_geomorph, annotations as shp_anno, metrics as shp_metrics\n",
    "from sahi import AutoDetectionModel"
   ]
  },
  {
   "cell_type": "markdown",
   "id": "a73852a6-584c-4b2d-a954-fdc157d41745",
   "metadata": {},
   "source": [
    "## Sliced prediction (get_sliced_prediction)\r\n",
    "\r\n",
    "Function to slice a large image and get prediction for each slice + combine all of the predictions back to the full image.\r\n",
    "\r\n",
    "The time to run the script is dependent on the number of predictions over the whole image. This is because the algorithm loops through each prediction in each slice and transform the bool_mask to polygon. \r\n",
    "\r\n",
    "**Few notes:**\r\n",
    "\r\n",
    "1. YOLOv8 model expects the image to be in BGR with the following shape (height, width, 3). \r\n",
    "2. If you want to detect very small objects, the slice size should be\r\n",
    "   decreased, and the inference size should be increased.\r\n",
    "   - slice_size = 256\r\n",
    "   - inference_size = 1024.\r\n",
    "3. If you are in the opposite situation, where you realized that most of the large boulders are missed out. You can\r\n",
    "   increase the slice height and width.\r\n",
    "   - slice_size = 1024\r\n",
    "   - inference_size  = 512, 1024.\r\n",
    "\r\n",
    "You can get the best of both worlds by combining predictions (2) and (3) with Non-Maximum Suppresion (NMS). Obviously the larger the slice size, and the larger the inference size, the more time it takes to run this script. \r\n",
    "\r\n",
    "Test Time Augmentation could be included too, but it takes lot of time to run it.. \r\n",
    "\r\n",
    "Note that the bboxes (in absolute coordinates) are calculated from the bounds of the polygons after the\r\n",
    "predictions are computed.\r\n",
    "\r\n",
    "**Example:**\r\n",
    "\r\n",
    "Let's have a look at an example. We want to automatically detect boulders on NAC image M139694087LE, which depicts about half of the Censorinus impact crater on the lunar surface. Censorinus is relatively fresh impact crater with a diameter of about 4 km. More than 250,000 boulders are located close to its vicinity (Krishna et al., 2016). I have provided the NAC image on my GoogleDrive so that you do not have to process it. edictions are computed.redictions are computed.n. "
   ]
  },
  {
   "cell_type": "code",
   "execution_count": 2,
   "id": "2f5b3afe-3a88-488b-ab48-a5a7213c8c51",
   "metadata": {},
   "outputs": [],
   "source": [
    "home_p = Path.home()\n",
    "work_dir= home_p / \"tmp\" / \"YOLOv8BeyondEarth\"\n",
    "raster_dir = (work_dir / \"raster\")\n",
    "model_dir = (work_dir / \"yolov8_model\")\n",
    "\n",
    "# Let's define the temporary working directories (feel free to change where the raster is saved to)\n",
    "work_dir.mkdir(parents=True, exist_ok=True)\n",
    "raster_dir.mkdir(parents=True, exist_ok=True)\n",
    "model_dir.mkdir(parents=True, exist_ok=True) "
   ]
  },
  {
   "cell_type": "code",
   "execution_count": 3,
   "id": "68cd76e9-cc68-404a-9e0d-744f5b598ba8",
   "metadata": {},
   "outputs": [
    {
     "data": {
      "text/plain": [
       "WindowsPath('C:/Users/nilscp/tmp/YOLOv8BeyondEarth/raster')"
      ]
     },
     "execution_count": 3,
     "metadata": {},
     "output_type": "execute_result"
    }
   ],
   "source": [
    "raster_dir"
   ]
  },
  {
   "cell_type": "code",
   "execution_count": 17,
   "id": "526564f2-34d9-452f-a2e2-d7b1c6f17999",
   "metadata": {},
   "outputs": [],
   "source": [
    "url_raster = \"https://drive.google.com/uc?id=1o9A0GSHQ0m_XTPAgDRDTD25xlgWutqMW\"\n",
    "url_yolov8_model_weights = \"https://drive.google.com/uc?id=1DJ3Ek4NI1uEzlB1pyor-KDRN8_pEorVp\""
   ]
  },
  {
   "cell_type": "markdown",
   "id": "ea58761a-a76a-4781-a951-00e44a79f996",
   "metadata": {},
   "source": [
    "You need to `pip install gdown` if needed"
   ]
  },
  {
   "cell_type": "code",
   "execution_count": 11,
   "id": "64477a83-9f4c-47c8-9b62-1c2630362eaa",
   "metadata": {},
   "outputs": [],
   "source": [
    "import gdown"
   ]
  },
  {
   "cell_type": "markdown",
   "id": "d2ead087-c99a-4720-afdb-3bdaefac9fca",
   "metadata": {},
   "source": [
    "#### Downloading of example image and model weights"
   ]
  },
  {
   "cell_type": "code",
   "execution_count": 20,
   "id": "8b2d1890-8914-4a7c-b95d-a06dfe797bed",
   "metadata": {},
   "outputs": [
    {
     "data": {
      "text/plain": [
       "'C:/Users/nilscp/tmp/YOLOv8BeyondEarth/yolov8_model/yolov8-m-boulder-detection-tmp.pt'"
      ]
     },
     "execution_count": 20,
     "metadata": {},
     "output_type": "execute_result"
    }
   ],
   "source": [
    "gdown.download(url_raster, (raster_dir / \"M139694087LE.tif\").as_posix(), quiet=True)\n",
    "gdown.download(url_yolov8_model_weights, (model_dir / \"yolov8-m-boulder-detection-tmp.pt\").as_posix(), quiet=True)"
   ]
  },
  {
   "cell_type": "code",
   "execution_count": 4,
   "id": "9ad7021c-d70a-40e0-a2a2-f04213f0027a",
   "metadata": {},
   "outputs": [],
   "source": [
    "in_raster = raster_dir / \"M139694087LE.tif\"\n",
    "model_weights = model_dir / \"yolov8-m-boulder-detection-tmp.pt\""
   ]
  },
  {
   "cell_type": "markdown",
   "id": "a5e077a7-8b7e-4896-902c-4cccc2af9329",
   "metadata": {},
   "source": [
    "### Boulder detection\n",
    "#### Loading of the model"
   ]
  },
  {
   "cell_type": "code",
   "execution_count": 7,
   "id": "d521b78c-bb10-4af2-bfa5-12855ab3cee1",
   "metadata": {},
   "outputs": [],
   "source": [
    "detection_model = AutoDetectionModel.from_pretrained(\n",
    "    model_type='yolov8',\n",
    "    model_path=model_weights.as_posix(),\n",
    "    confidence_threshold=0.1, # this parameter will be changed by the function\n",
    "    device=\"cuda:0\",  # or cpu, please run this code on a computer with a graphical card, otherwise it will take a long time! \n",
    "    image_size=1024) # this parameter will be changed by the function"
   ]
  },
  {
   "cell_type": "markdown",
   "id": "6e95a31d-6a16-47e1-9594-d9857897eee6",
   "metadata": {},
   "source": [
    "#### Predictions over the whole NAC image\n",
    "\n",
    "In order to detect boulders of different sizes, we are running the code for 4 different slice sizes (256x256, 512x512, 768x768 and 1024x1024). The sliced images are then upsampled to 1024x1024 (the inference size). We here used a 20% overlap between the sliced images to avoid for edge artifacts. A NMS threshold is set to 0.20 to filter away overlapping bouding boxes/masks (this step is based on the amount of overlap between bounding boxes). Only boulders with more than 6 pixels are kept. The `downscale_pred` flag controls if the polygons are derived from the masks generated during the inference (1024x1024 in this case), or if they are computed from the resized masks (resized from inference to slice size). Using this flag speed up significantly the code, and it is almost necessary for the code to run at an OK speed for images with lot of predictions. However, the boulder outlines may suffer from this approximation. You can play a bit around with this flag, and see how it impacts the performances."
   ]
  },
  {
   "cell_type": "code",
   "execution_count": 5,
   "id": "ce02cbcb-cbda-4c7b-a8f0-92ab43c1b447",
   "metadata": {},
   "outputs": [],
   "source": [
    "output_dir = (work_dir / \"inference\")\n",
    "output_dir.mkdir(parents=True, exist_ok=True)\n",
    "\n",
    "interim_dir = (work_dir / \"interim_dir\")\n",
    "interim_dir.mkdir(parents=True, exist_ok=True) "
   ]
  },
  {
   "cell_type": "code",
   "execution_count": 8,
   "id": "d5bedbc3-989d-4625-b7fa-b19f302f70fe",
   "metadata": {},
   "outputs": [
    {
     "name": "stderr",
     "output_type": "stream",
     "text": [
      "100%|██████████████████████████████████████████████████████████████████████████████████████████████████| 7225/7225 [07:40<00:00, 15.70it/s]\n",
      "100%|██████████████████████████████████████████████████████████████████████████████████████████████████| 1885/1885 [07:02<00:00,  4.46it/s]\n",
      "100%|████████████████████████████████████████████████████████████████████████████████████████████████████| 864/864 [11:09<00:00,  1.29it/s]\n",
      "100%|████████████████████████████████████████████████████████████████████████████████████████████████████| 432/432 [09:32<00:00,  1.32s/it]\n"
     ]
    }
   ],
   "source": [
    "slice_sizes = [256, 512, 768, 1024] \n",
    "confidence_threshold = 0.10\n",
    "inference_size = 1024\n",
    "overlap_height_ratio = 0.20\n",
    "\n",
    "for slice_size in slice_sizes:\n",
    "        __, __ = get_sliced_prediction(in_raster,\n",
    "                            detection_model=detection_model,\n",
    "                            confidence_threshold=confidence_threshold,\n",
    "                            has_mask=True,\n",
    "                            output_dir=output_dir,\n",
    "                            interim_file_name=in_raster.stem,  # YOU CAN OPTIONALLY SAVE SLICES WITH SPECIFIC NAME\n",
    "                            interim_dir=interim_dir,  # YOU CAN OPTIONALLY SAVE SLICES TO THIS INTERIM DIRECTORY\n",
    "                            slice_size=slice_size,\n",
    "                            inference_size=inference_size,\n",
    "                            overlap_height_ratio=0.2,\n",
    "                            overlap_width_ratio=0.2,\n",
    "                            min_area_threshold=6,\n",
    "                            downscale_pred=True, # if True, the predicted mask is downscaled to the slice_size, decreasing the coputational time.  \n",
    "                            postprocess= True,\n",
    "                            postprocess_match_threshold=0.2, # \n",
    "                            postprocess_class_agnostic=False)"
   ]
  },
  {
   "cell_type": "markdown",
   "id": "89120980-30c5-41c1-9462-2c8ac118d60a",
   "metadata": {},
   "source": [
    "It takes about 30 min for a NAC image (if four different slice sizes are run)."
   ]
  },
  {
   "cell_type": "markdown",
   "id": "92ac3741-6f7b-409d-bf7e-5d2007513d07",
   "metadata": {},
   "source": [
    "### Crater detection"
   ]
  },
  {
   "cell_type": "code",
   "execution_count": 9,
   "id": "4e905155-52d5-4409-9cce-34566ce421e1",
   "metadata": {},
   "outputs": [],
   "source": [
    "url_yolov8_crater_model_weights = \"https://drive.google.com/uc?id=10lcw015kekhwZtDa0u7VuzgqG7NuObhZ\""
   ]
  },
  {
   "cell_type": "code",
   "execution_count": 12,
   "id": "38dffdf6-8210-453c-b5af-b59c34bfa207",
   "metadata": {},
   "outputs": [
    {
     "data": {
      "text/plain": [
       "'C:/Users/nilscp/tmp/YOLOv8BeyondEarth/yolov8_model/yolov8-m-crater-detection-tmp.pt'"
      ]
     },
     "execution_count": 12,
     "metadata": {},
     "output_type": "execute_result"
    }
   ],
   "source": [
    "gdown.download(url_yolov8_crater_model_weights, (model_dir / \"yolov8-m-crater-detection-tmp.pt\").as_posix(), quiet=True)"
   ]
  },
  {
   "cell_type": "code",
   "execution_count": 13,
   "id": "8eebd413-d642-4c01-a57b-1dece8ebbf74",
   "metadata": {},
   "outputs": [],
   "source": [
    "model_weights_crater = model_dir / \"yolov8-m-crater-detection-tmp.pt\""
   ]
  },
  {
   "cell_type": "code",
   "execution_count": 14,
   "id": "cc4ea83a-f280-44a5-87d1-7b88b0f54af3",
   "metadata": {},
   "outputs": [],
   "source": [
    "crater_detection_model = AutoDetectionModel.from_pretrained(\n",
    "    model_type='yolov8',\n",
    "    model_path=model_weights_crater.as_posix(),\n",
    "    confidence_threshold=0.1, # this parameter will be changed by the function\n",
    "    device=\"cuda:0\",  # or cpu, please run this code on a computer with a graphical card, otherwise it will take a long time! \n",
    "    image_size=1024) # this parameter will be changed by the function"
   ]
  },
  {
   "cell_type": "code",
   "execution_count": 15,
   "id": "1f685d72-1917-4542-b83a-39f000cc893c",
   "metadata": {},
   "outputs": [],
   "source": [
    "output_dir = (work_dir / \"inference_crater\")\n",
    "output_dir.mkdir(parents=True, exist_ok=True)"
   ]
  },
  {
   "cell_type": "code",
   "execution_count": 17,
   "id": "7c91528f-3709-4c9a-a85d-18df7cacb622",
   "metadata": {},
   "outputs": [
    {
     "name": "stderr",
     "output_type": "stream",
     "text": [
      "100%|██████████████████████████████████████████████████████████████████████████████████████████████████| 7225/7225 [02:37<00:00, 46.01it/s]\n"
     ]
    }
   ],
   "source": [
    "slice_sizes = [256] \n",
    "confidence_threshold = 0.10\n",
    "inference_size = 512\n",
    "overlap_height_ratio = 0.20\n",
    "\n",
    "for slice_size in slice_sizes:\n",
    "        __, __ = get_sliced_prediction(in_raster,\n",
    "                            detection_model=crater_detection_model,\n",
    "                            confidence_threshold=confidence_threshold,\n",
    "                            has_mask=True,\n",
    "                            output_dir=output_dir,\n",
    "                            interim_file_name=None,  # YOU CAN OPTIONALLY SAVE SLICES WITH SPECIFIC NAME\n",
    "                            interim_dir=None,  # YOU CAN OPTIONALLY SAVE SLICES TO THIS INTERIM DIRECTORY\n",
    "                            slice_size=slice_size,\n",
    "                            inference_size=inference_size,\n",
    "                            overlap_height_ratio=0.2,\n",
    "                            overlap_width_ratio=0.2,\n",
    "                            min_area_threshold=6,\n",
    "                            downscale_pred=True, # if True, the predicted mask is downscaled to the slice_size, decreasing the coputational time.  \n",
    "                            postprocess= True,\n",
    "                            postprocess_match_threshold=0.2, # \n",
    "                            postprocess_class_agnostic=False)"
   ]
  },
  {
   "cell_type": "code",
   "execution_count": null,
   "id": "c50103d3-158c-4c5a-b383-f1fbaf633661",
   "metadata": {},
   "outputs": [],
   "source": []
  }
 ],
 "metadata": {
  "kernelspec": {
   "display_name": "Python 3 (ipykernel)",
   "language": "python",
   "name": "python3"
  },
  "language_info": {
   "codemirror_mode": {
    "name": "ipython",
    "version": 3
   },
   "file_extension": ".py",
   "mimetype": "text/x-python",
   "name": "python",
   "nbconvert_exporter": "python",
   "pygments_lexer": "ipython3",
   "version": "3.9.18"
  }
 },
 "nbformat": 4,
 "nbformat_minor": 5
}
